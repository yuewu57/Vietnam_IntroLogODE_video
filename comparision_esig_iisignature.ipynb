{
  "nbformat": 4,
  "nbformat_minor": 0,
  "metadata": {
    "colab": {
      "provenance": [],
      "authorship_tag": "ABX9TyNPtFcg1Mzxt2LWE6fXnAaS"
    },
    "kernelspec": {
      "name": "python3",
      "display_name": "Python 3"
    },
    "language_info": {
      "name": "python"
    }
  },
  "cells": [
    {
      "cell_type": "code",
      "source": [
        "# install the first package for computing log-signature: iisignature\n",
        "!pip install iisignature"
      ],
      "metadata": {
        "colab": {
          "base_uri": "https://localhost:8080/"
        },
        "id": "Tf782Kih7Y-O",
        "outputId": "e8da5ce5-5e9d-414c-8a8b-947d5de816b1"
      },
      "execution_count": null,
      "outputs": [
        {
          "output_type": "stream",
          "name": "stdout",
          "text": [
            "Looking in indexes: https://pypi.org/simple, https://us-python.pkg.dev/colab-wheels/public/simple/\n",
            "Requirement already satisfied: iisignature in /usr/local/lib/python3.8/dist-packages (0.24)\n",
            "Requirement already satisfied: numpy>1.7 in /usr/local/lib/python3.8/dist-packages (from iisignature) (1.21.6)\n"
          ]
        }
      ]
    },
    {
      "cell_type": "code",
      "source": [
        "#install the second package for computing log-signature: esig\n",
        "!pip install esig"
      ],
      "metadata": {
        "colab": {
          "base_uri": "https://localhost:8080/"
        },
        "id": "uTqx3IFX7WRY",
        "outputId": "87a62fd7-acf2-47ff-d2d9-ea573be19e59"
      },
      "execution_count": null,
      "outputs": [
        {
          "output_type": "stream",
          "name": "stdout",
          "text": [
            "Looking in indexes: https://pypi.org/simple, https://us-python.pkg.dev/colab-wheels/public/simple/\n",
            "Requirement already satisfied: esig in /usr/local/lib/python3.8/dist-packages (0.9.8.3)\n",
            "Requirement already satisfied: numpy>=1.7 in /usr/local/lib/python3.8/dist-packages (from esig) (1.21.6)\n"
          ]
        }
      ]
    },
    {
      "cell_type": "code",
      "source": [
        "import numpy as np\n",
        "import iisignature as iisig\n",
        "import esig "
      ],
      "metadata": {
        "id": "oV-hQcx_8Bdx"
      },
      "execution_count": null,
      "outputs": []
    },
    {
      "cell_type": "markdown",
      "source": [
        "**Now create a 2-dimensional random path with 20 data points**"
      ],
      "metadata": {
        "id": "7enra-uVn2Ey"
      }
    },
    {
      "cell_type": "code",
      "source": [
        "path_dim=2\n",
        "path = np.random.uniform( size =(20 ,path_dim) )\n",
        "print(path)"
      ],
      "metadata": {
        "colab": {
          "base_uri": "https://localhost:8080/"
        },
        "id": "dQUFT9BB7bvd",
        "outputId": "b732cecb-d0ca-4d19-889d-5d99320cc3e1"
      },
      "execution_count": null,
      "outputs": [
        {
          "output_type": "stream",
          "name": "stdout",
          "text": [
            "[[0.35769474 0.50588281]\n",
            " [0.66054619 0.43734089]\n",
            " [0.71378357 0.6613645 ]\n",
            " [0.82375704 0.42753399]\n",
            " [0.47864617 0.08956569]\n",
            " [0.65638669 0.71288493]\n",
            " [0.81275612 0.82707202]\n",
            " [0.79157413 0.83384043]\n",
            " [0.31244184 0.95926759]\n",
            " [0.37354168 0.29281042]\n",
            " [0.65100811 0.2666823 ]\n",
            " [0.39408311 0.05315378]\n",
            " [0.48518475 0.60916381]\n",
            " [0.77843437 0.09807013]\n",
            " [0.44793331 0.70795826]\n",
            " [0.91775239 0.24632245]\n",
            " [0.82708876 0.33930392]\n",
            " [0.3644781  0.67240777]\n",
            " [0.54137349 0.60588729]\n",
            " [0.59063857 0.78339926]]\n"
          ]
        }
      ]
    },
    {
      "cell_type": "markdown",
      "source": [
        "**Choose the depth of (log)-signature we want to truncate**"
      ],
      "metadata": {
        "id": "6vRqts22oElC"
      }
    },
    {
      "cell_type": "code",
      "source": [
        "depth=3"
      ],
      "metadata": {
        "id": "admifgfCmeAC"
      },
      "execution_count": null,
      "outputs": []
    },
    {
      "cell_type": "markdown",
      "source": [
        "**1. let us compare signatures generated from the two packages**"
      ],
      "metadata": {
        "id": "nrh308cmoR09"
      }
    },
    {
      "cell_type": "code",
      "source": [
        "signature_iisig = iisig.sig( path ,depth)\n",
        "print(signature_iisig)"
      ],
      "metadata": {
        "colab": {
          "base_uri": "https://localhost:8080/"
        },
        "id": "Bi5F_Am676w7",
        "outputId": "647fcca9-bd9b-4d0c-dadf-302d8f84c749"
      },
      "execution_count": null,
      "outputs": [
        {
          "output_type": "stream",
          "name": "stdout",
          "text": [
            "[ 0.23294383  0.27751645  0.02713141  0.10886414 -0.0442184   0.03850769\n",
            "  0.0021067   0.0012721   0.02281503 -0.02105356 -0.01655772  0.07231872\n",
            " -0.04229502  0.00356217]\n"
          ]
        }
      ]
    },
    {
      "cell_type": "code",
      "source": [
        "signature_esig = esig.stream2sig(path, depth)\n",
        "print(signature_esig[1:])"
      ],
      "metadata": {
        "colab": {
          "base_uri": "https://localhost:8080/"
        },
        "id": "Z4QnMJmX8JXK",
        "outputId": "633eb3db-519d-4046-c391-fbeb70ee4d28"
      },
      "execution_count": null,
      "outputs": [
        {
          "output_type": "stream",
          "name": "stdout",
          "text": [
            "[ 0.23294383  0.27751645  0.02713141  0.10886414 -0.0442184   0.03850769\n",
            "  0.0021067   0.0012721   0.02281503 -0.02105356 -0.01655772  0.07231872\n",
            " -0.04229502  0.00356217]\n"
          ]
        }
      ]
    },
    {
      "cell_type": "markdown",
      "source": [
        "**2. compare the log-signatures generated from the two packages**"
      ],
      "metadata": {
        "id": "uGtONT1MoYj5"
      }
    },
    {
      "cell_type": "code",
      "source": [
        "s = iisig.prepare (path_dim ,depth)\n",
        "logsignature_iisig = iisig.logsig (path ,s)\n",
        "print(logsignature_iisig)"
      ],
      "metadata": {
        "colab": {
          "base_uri": "https://localhost:8080/"
        },
        "id": "u_eXnh-QKoBv",
        "outputId": "2e57d74f-068b-448b-a51a-81b52073ae46"
      },
      "execution_count": null,
      "outputs": [
        {
          "output_type": "stream",
          "name": "stdout",
          "text": [
            "[ 0.23294383  0.27751645  0.07654127 -0.01015261 -0.03466434]\n"
          ]
        }
      ]
    },
    {
      "cell_type": "code",
      "source": [
        "logsignature_esig = esig.stream2logsig(path ,depth)\n",
        "print(logsignature_esig)"
      ],
      "metadata": {
        "colab": {
          "base_uri": "https://localhost:8080/"
        },
        "id": "a2x9vUwFLINb",
        "outputId": "8bda177d-4072-44ee-cd21-f5fc885a43de"
      },
      "execution_count": null,
      "outputs": [
        {
          "output_type": "stream",
          "name": "stdout",
          "text": [
            "[ 0.23294383  0.27751645  0.07654127 -0.01015261  0.03466434]\n"
          ]
        }
      ]
    },
    {
      "cell_type": "markdown",
      "source": [
        "**3. examine the differences in the basis**"
      ],
      "metadata": {
        "id": "eBtvgaZbpXKC"
      }
    },
    {
      "cell_type": "code",
      "source": [
        "iisig.basis(s)"
      ],
      "metadata": {
        "colab": {
          "base_uri": "https://localhost:8080/"
        },
        "id": "A9lxPdmqMXki",
        "outputId": "a1229baf-3f14-4619-a927-987c2e12f159"
      },
      "execution_count": null,
      "outputs": [
        {
          "output_type": "execute_result",
          "data": {
            "text/plain": [
              "('1', '2', '[1,2]', '[1,[1,2]]', '[[1,2],2]')"
            ]
          },
          "metadata": {},
          "execution_count": 39
        }
      ]
    },
    {
      "cell_type": "code",
      "source": [
        "log_esig_keys = esig.logsigkeys(path_dim, depth)\n",
        "print(log_esig_keys) "
      ],
      "metadata": {
        "colab": {
          "base_uri": "https://localhost:8080/"
        },
        "id": "btEWgIJ4LugF",
        "outputId": "fb1e1627-31e7-4e15-bd77-633bd1ec30c9"
      },
      "execution_count": null,
      "outputs": [
        {
          "output_type": "stream",
          "name": "stdout",
          "text": [
            " 1 2 [1,2] [1,[1,2]] [2,[1,2]]\n"
          ]
        }
      ]
    }
  ]
}